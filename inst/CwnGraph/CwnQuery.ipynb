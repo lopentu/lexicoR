{
 "cells": [
  {
   "cell_type": "markdown",
   "metadata": {},
   "source": [
    "# Cwn Graph Query"
   ]
  },
  {
   "cell_type": "code",
   "execution_count": 4,
   "metadata": {},
   "outputs": [
    {
     "name": "stdout",
     "output_type": "stream",
     "text": [
      "The autoreload extension is already loaded. To reload it, use:\n",
      "  %reload_ext autoreload\n"
     ]
    }
   ],
   "source": [
    "%load_ext autoreload\n",
    "%autoreload 2"
   ]
  },
  {
   "cell_type": "code",
   "execution_count": 5,
   "metadata": {},
   "outputs": [],
   "source": [
    "import pickle\n",
    "from CwnGraph import CwnBase, CwnAnnotator\n",
    "from CwnGraph import CwnRelationType"
   ]
  },
  {
   "cell_type": "markdown",
   "metadata": {},
   "source": [
    "CwnGraph can be installed as a package.\n",
    "When run first time, prepare cwn_graph.pyobj and install with install_cwn().\n",
    "After installation, CwnGraph use CWN data in its own home directory, regardless of working directory."
   ]
  },
  {
   "cell_type": "code",
   "execution_count": 6,
   "metadata": {},
   "outputs": [
    {
     "name": "stdout",
     "output_type": "stream",
     "text": [
      "CWN data installed\n"
     ]
    }
   ],
   "source": [
    "cwn = CwnBase.install_cwn(\"data/cwn_graph.pyobj\")"
   ]
  },
  {
   "cell_type": "code",
   "execution_count": 7,
   "metadata": {},
   "outputs": [],
   "source": [
    "cwn = CwnBase()"
   ]
  },
  {
   "cell_type": "code",
   "execution_count": 8,
   "metadata": {},
   "outputs": [
    {
     "data": {
      "text/plain": [
       "'6ebdc3'"
      ]
     },
     "execution_count": 8,
     "metadata": {},
     "output_type": "execute_result"
    }
   ],
   "source": [
    "# this line may take a few seconds\n",
    "cwn.get_hash()"
   ]
  },
  {
   "cell_type": "markdown",
   "metadata": {},
   "source": [
    "## Basic Query"
   ]
  },
  {
   "cell_type": "code",
   "execution_count": 9,
   "metadata": {},
   "outputs": [
    {
     "name": "stdout",
     "output_type": "stream",
     "text": [
      "[<CwnLemma: 電腦_1>, <CwnLemma: 電腦化_1>, <CwnLemma: 微電腦_1>]\n"
     ]
    }
   ],
   "source": [
    "lemmas = cwn.find_lemma(\"電腦\")\n",
    "print(lemmas)"
   ]
  },
  {
   "cell_type": "code",
   "execution_count": 10,
   "metadata": {},
   "outputs": [
    {
     "name": "stdout",
     "output_type": "stream",
     "text": [
      "[<CwnSense[06613601](電腦): 一種資料處理裝置，能自動接受並儲存、處理輸入的資料，然後經由一組預先存放在機器內的指令逐步引導下產生輸出結果。>, <CwnSense[06613602](電腦): 研究或操作電腦的知識。>, <CwnSense[06613603](電腦): 比喻計算或記憶能力很強的人。>]\n"
     ]
    }
   ],
   "source": [
    "lemma0 = lemmas[0]\n",
    "senses = lemma0.senses\n",
    "print(senses)"
   ]
  },
  {
   "cell_type": "code",
   "execution_count": 11,
   "metadata": {},
   "outputs": [
    {
     "name": "stdout",
     "output_type": "stream",
     "text": [
      "<CwnSense[06613601](電腦): 一種資料處理裝置，能自動接受並儲存、處理輸入的資料，然後經由一組預先存放在機器內的指令逐步引導下產生輸出結果。>\n",
      "[('has_facet', <CwnFacet[0661360101](電腦): 普通名詞。電腦的功能，通常包括程式、軟體等。>), ('has_facet', <CwnFacet[0661360102](電腦): 普通名詞。電腦的實體，特別指外表，通常包括螢幕、鍵盤、主機等。>), ('is_synset', <CwnSense[syn_004128](----): >), ('hypernym', <CwnSense[06582901](工具): 工作時必須使用的具有特定功能的器具。>), ('hyponym(rev)', <CwnSense[06582901](工具): 工作時必須使用的具有特定功能的器具。>)]\n",
      "--\n",
      "<CwnSense[06613602](電腦): 研究或操作電腦的知識。>\n",
      "[('is_synset', <CwnSense[syn_016365](----): >)]\n",
      "--\n",
      "<CwnSense[06613603](電腦): 比喻計算或記憶能力很強的人。>\n",
      "[('is_synset', <CwnSense[syn_014518](----): >)]\n",
      "--\n"
     ]
    }
   ],
   "source": [
    "for sense_x in senses:\n",
    "    print(sense_x)\n",
    "    print(sense_x.relations)\n",
    "    print(\"--\")"
   ]
  },
  {
   "cell_type": "code",
   "execution_count": 10,
   "metadata": {},
   "outputs": [
    {
     "data": {
      "text/plain": [
       "{'node_type': 'sense',\n",
       " 'pos': 'Na',\n",
       " 'examples': ['小朋友都覺得放假好煩，比上學更累，他們要學<電腦>，上補習班。\\r\\n',\n",
       "  '這樣規定豈不是加重學生的負擔？還不如學<電腦>或英文更有實效。\\r\\n',\n",
       "  '陶公我在高一時就認為他<電腦>超強的，但是現在我認為muscle你也不差。\\r\\n'],\n",
       " 'domain': '',\n",
       " 'annot': {},\n",
       " 'def': '研究或操作電腦的知識。'}"
      ]
     },
     "execution_count": 10,
     "metadata": {},
     "output_type": "execute_result"
    }
   ],
   "source": [
    "senses[1].data()"
   ]
  },
  {
   "cell_type": "code",
   "execution_count": 11,
   "metadata": {},
   "outputs": [
    {
     "data": {
      "text/plain": [
       "[<CwnSense[06665201](車): 在陸地上以輪子行駛的運輸工具。>,\n",
       " <CwnSense[06665202](車): 以車子為形象製成的人造物。>,\n",
       " <CwnSense[06665203](車): 開放式用於乘載或放置物品的有輪子的工具。>,\n",
       " <CwnSense[06665204](車): 相互連結用在軌道上行駛的運輸工具中的一節。>,\n",
       " <CwnSense[06665205](車): 計算一車承載物的量的單位。>,\n",
       " <CwnSense[06665206](車): 利用機械切削特定物品。>,\n",
       " <CwnSense[06665207](車): 大型的紡織機械。>,\n",
       " <CwnSense[06665208](車): 利用機器來縫製衣物。>,\n",
       " <CwnSense[07021501](車): 姓。>,\n",
       " <CwnSense[07021601](車): 象棋遊戲中所使用的棋子之一，走直線。>]"
      ]
     },
     "execution_count": 11,
     "metadata": {},
     "output_type": "execute_result"
    }
   ],
   "source": [
    "cwn.find_senses(lemma=\"^車$\")"
   ]
  },
  {
   "cell_type": "code",
   "execution_count": 12,
   "metadata": {},
   "outputs": [
    {
     "data": {
      "text/plain": [
       "[<CwnSense[03027001](輛): 計算有輪子的機械裝置的單位。>,\n",
       " <CwnSense[04082906](台): 計算有輪子的機械裝置的單位。>,\n",
       " <CwnSense[04153906](臺): 計算有輪子的機械裝置的單位。>,\n",
       " <CwnSense[05075709](部): 計算有輪子的機械裝置的單位。>,\n",
       " <CwnSense[05131903](輪): 計算輪子的單位。>,\n",
       " <CwnSense[05131904](輪): 形狀像輪子的物體。>,\n",
       " <CwnSense[06521401](車子): 在陸地上以輪子行駛的運輸工具。>,\n",
       " <CwnSense[06552201](汽車): 在陸地上行駛的有四個以上的輪子的運輸工具。>,\n",
       " <CwnSense[06665201](車): 在陸地上以輪子行駛的運輸工具。>,\n",
       " <CwnSense[06665203](車): 開放式用於乘載或放置物品的有輪子的工具。>,\n",
       " <CwnSense[08008101](胎): 輪子外面包覆的環形橡膠製品。為英語tire的音譯。>,\n",
       " <CwnSense[09004101](汽): 在陸地上行駛的有四個以上的輪子的運輸工具。>]"
      ]
     },
     "execution_count": 12,
     "metadata": {},
     "output_type": "execute_result"
    }
   ],
   "source": [
    "cwn.find_senses(definition=\"輪子\")"
   ]
  },
  {
   "cell_type": "code",
   "execution_count": 13,
   "metadata": {},
   "outputs": [
    {
     "data": {
      "text/plain": [
       "[<CwnSense[05041401](連): 兩物體在空間上相連。>,\n",
       " <CwnSense[06665203](車): 開放式用於乘載或放置物品的有輪子的工具。>]"
      ]
     },
     "execution_count": 13,
     "metadata": {},
     "output_type": "execute_result"
    }
   ],
   "source": [
    "cwn.find_senses(examples=\"學步車\")"
   ]
  },
  {
   "cell_type": "code",
   "execution_count": 14,
   "metadata": {},
   "outputs": [
    {
     "data": {
      "text/plain": [
       "[<CwnFacet[0506490101](花費): 消耗後述時間或能量。>,\n",
       " <CwnFacet[0506490102](花費): 付出金錢。>,\n",
       " <CwnFacet[0506490103](花費): 付出金錢。>]"
      ]
     },
     "execution_count": 14,
     "metadata": {},
     "output_type": "execute_result"
    }
   ],
   "source": [
    "spend_senses = cwn.find_senses(lemma=\"花費\")\n",
    "spend_senses[0].facets"
   ]
  },
  {
   "cell_type": "code",
   "execution_count": 15,
   "metadata": {},
   "outputs": [
    {
     "data": {
      "text/plain": [
       "''"
      ]
     },
     "execution_count": 15,
     "metadata": {},
     "output_type": "execute_result"
    }
   ],
   "source": [
    "spend_senses[0].examples"
   ]
  },
  {
   "cell_type": "code",
   "execution_count": 16,
   "metadata": {},
   "outputs": [
    {
     "data": {
      "text/plain": [
       "['總統對中油努力探勘油源所<花費>的心力，表示肯定。',\n",
       " '因為資訊實在太多，即使走馬看花，也要<花費>不少時間。',\n",
       " '薄薄的一張證明，又不需要<花費>很大人力，卻要索價三百元。',\n",
       " '第一階段選擇場址評估約需<花費>一千五百萬元。',\n",
       " 'IBM相當重視研究開發，每年<花費>在此方面的經費不下數十億美元。',\n",
       " '整體經營與制度化，導致包括交通、住宿及其他<花費>的資金，大多未能流入當地社會。',\n",
       " '職業訓練是投資，而不是<花費>。',\n",
       " '只要有興趣，就不會在乎金錢上的<花費>。',\n",
       " '計有卅八宗個案，<花費>金額為四十六萬五千五百廿五元。']"
      ]
     },
     "execution_count": 16,
     "metadata": {},
     "output_type": "execute_result"
    }
   ],
   "source": [
    "spend_senses[0].all_examples()"
   ]
  },
  {
   "cell_type": "markdown",
   "metadata": {},
   "source": [
    "## Annotation"
   ]
  },
  {
   "cell_type": "code",
   "execution_count": 13,
   "metadata": {},
   "outputs": [
    {
     "name": "stdout",
     "output_type": "stream",
     "text": [
      "loading saved session from  annot/cwn_annot_seantyh_test.json\n"
     ]
    }
   ],
   "source": [
    "annot = CwnAnnotator(cwn, \"seantyh_test\")"
   ]
  },
  {
   "cell_type": "code",
   "execution_count": 14,
   "metadata": {},
   "outputs": [
    {
     "data": {
      "text/plain": [
       "<CwnLemma: 平板_1>"
      ]
     },
     "execution_count": 14,
     "metadata": {},
     "output_type": "execute_result"
    }
   ],
   "source": [
    "my_lemma = annot.create_lemma(\"平板\")\n",
    "my_lemma"
   ]
  },
  {
   "cell_type": "code",
   "execution_count": 15,
   "metadata": {},
   "outputs": [],
   "source": [
    "my_lemma.zhuyin = \"ㄆㄧㄥˊ ㄅㄢˇ\"\n",
    "annot.set_lemma(my_lemma)"
   ]
  },
  {
   "cell_type": "code",
   "execution_count": 16,
   "metadata": {},
   "outputs": [],
   "source": [
    "my_sense = annot.create_sense(\"一種具有平面螢幕且易攜帶的的電腦裝置\")"
   ]
  },
  {
   "cell_type": "code",
   "execution_count": 17,
   "metadata": {},
   "outputs": [
    {
     "data": {
      "text/plain": [
       "<CwnSense[seantyh_test_000006](----): 一種具有平面螢幕且易攜帶的的電腦裝置>"
      ]
     },
     "execution_count": 17,
     "metadata": {},
     "output_type": "execute_result"
    }
   ],
   "source": [
    "my_sense"
   ]
  },
  {
   "cell_type": "code",
   "execution_count": 18,
   "metadata": {},
   "outputs": [],
   "source": [
    "my_sense.pos = \"N\"\n",
    "my_sense.examples = [\"蘋果在發表會上推出了新的<平板>。\"]\n",
    "annot.set_sense(my_sense)"
   ]
  },
  {
   "cell_type": "code",
   "execution_count": 19,
   "metadata": {},
   "outputs": [
    {
     "data": {
      "text/plain": [
       "{'seantyh_test_000001': {'node_type': 'lemma',\n",
       "  'lemma': '平板',\n",
       "  'lemma_sno': 1,\n",
       "  'zhuyin': 'ㄆㄧㄥˊ ㄅㄢˇ',\n",
       "  'annot': {}},\n",
       " 'seantyh_test_000002': {'node_type': 'sense',\n",
       "  'pos': 'N',\n",
       "  'examples': ['蘋果在發表會上推出了新的<平板>。'],\n",
       "  'annot': {},\n",
       "  'def': '一種具有平面螢幕且易攜帶的的電腦裝置'},\n",
       " '06613601': {'node_type': 'sense',\n",
       "  'pos': 'Na',\n",
       "  'examples': ['大家學著使用<電腦>來處理資料。'],\n",
       "  'domain': '',\n",
       "  'annot': {},\n",
       "  'def': '一種資料處理裝置，能自動接受並儲存、處理輸入的資料，然後經由一組預先存放在機器內的指令逐步引導下產生輸出結果。'},\n",
       " 'seantyh_test_000003': {'node_type': 'lemma',\n",
       "  'lemma': '平板',\n",
       "  'lemma_sno': 1,\n",
       "  'zhuyin': 'ㄆㄧㄥˊ ㄅㄢˇ',\n",
       "  'annot': {}},\n",
       " 'seantyh_test_000004': {'node_type': 'sense',\n",
       "  'pos': 'N',\n",
       "  'examples': ['蘋果在發表會上推出了新的<平板>。'],\n",
       "  'domain': '',\n",
       "  'annot': {},\n",
       "  'def': '一種具有平面螢幕且易攜帶的的電腦裝置'},\n",
       " 'seantyh_test_000005': {'node_type': 'lemma',\n",
       "  'lemma': '平板',\n",
       "  'lemma_sno': 1,\n",
       "  'zhuyin': 'ㄆㄧㄥˊ ㄅㄢˇ',\n",
       "  'annot': {}},\n",
       " 'seantyh_test_000006': {'node_type': 'sense',\n",
       "  'pos': 'N',\n",
       "  'examples': ['蘋果在發表會上推出了新的<平板>。'],\n",
       "  'domain': '',\n",
       "  'annot': {},\n",
       "  'def': '一種具有平面螢幕且易攜帶的的電腦裝置'}}"
      ]
     },
     "execution_count": 19,
     "metadata": {},
     "output_type": "execute_result"
    }
   ],
   "source": [
    "annot.V"
   ]
  },
  {
   "cell_type": "code",
   "execution_count": 20,
   "metadata": {},
   "outputs": [
    {
     "name": "stdout",
     "output_type": "stream",
     "text": [
      "<CwnRelation> hyponym: 06613601 -> seantyh_test_000006 <CwnRelation> hypernym: seantyh_test_000006 -> 06613601\n"
     ]
    }
   ],
   "source": [
    "# create_relation(src_id, tgt_id, rel_type)\n",
    "rel1 = annot.create_relation(senses[0].id, my_sense.id, CwnRelationType.hyponym)\n",
    "rel2 = annot.create_relation(my_sense.id, senses[0].id, CwnRelationType.hypernym)\n",
    "print(rel1, rel2)\n",
    "tablet_has_sense = annot.create_relation(my_lemma.id, my_sense.id, CwnRelationType.has_sense)"
   ]
  },
  {
   "cell_type": "code",
   "execution_count": 21,
   "metadata": {},
   "outputs": [
    {
     "data": {
      "text/plain": [
       "{('06613601', 'seantyh_test_000002'): {'edge_type': 'hyponym', 'annot': {}},\n",
       " ('seantyh_test_000002', '06613601'): {'edge_type': 'hypernym', 'annot': {}},\n",
       " ('seantyh_test_000001', 'seantyh_test_000002'): {'edge_type': 'has_sense',\n",
       "  'annot': {}},\n",
       " ('06613601', 'seantyh_test_000004'): {'edge_type': 'hyponym', 'annot': {}},\n",
       " ('seantyh_test_000004', '06613601'): {'edge_type': 'hypernym', 'annot': {}},\n",
       " ('seantyh_test_000003', 'seantyh_test_000004'): {'edge_type': 'has_sense',\n",
       "  'annot': {}},\n",
       " ('06613601', 'seantyh_test_000006'): {'edge_type': 'hyponym', 'annot': {}},\n",
       " ('seantyh_test_000006', '06613601'): {'edge_type': 'hypernym', 'annot': {}},\n",
       " ('seantyh_test_000005', 'seantyh_test_000006'): {'edge_type': 'has_sense',\n",
       "  'annot': {}}}"
      ]
     },
     "execution_count": 21,
     "metadata": {},
     "output_type": "execute_result"
    }
   ],
   "source": [
    "annot.E"
   ]
  },
  {
   "cell_type": "code",
   "execution_count": 22,
   "metadata": {},
   "outputs": [
    {
     "name": "stdout",
     "output_type": "stream",
     "text": [
      "<CwnSense[06613601](電腦): 一種資料處理裝置，能自動接受並儲存、處理輸入的資料，然後經由一組預先存放在機器內的指令逐步引導下產生輸出結果。>\n"
     ]
    }
   ],
   "source": [
    "computer0 = annot.find_lemmas(\"電腦\")[0]\n",
    "senses_computer = computer0.senses\n",
    "print(senses_computer[0])"
   ]
  },
  {
   "cell_type": "code",
   "execution_count": 23,
   "metadata": {},
   "outputs": [
    {
     "data": {
      "text/plain": [
       "[('hyponym', <CwnSense[seantyh_test_000002](平板): 一種具有平面螢幕且易攜帶的的電腦裝置>),\n",
       " ('hyponym', <CwnSense[seantyh_test_000004](平板): 一種具有平面螢幕且易攜帶的的電腦裝置>),\n",
       " ('hyponym', <CwnSense[seantyh_test_000006](平板): 一種具有平面螢幕且易攜帶的的電腦裝置>),\n",
       " ('hypernym(rev)', <CwnSense[seantyh_test_000002](平板): 一種具有平面螢幕且易攜帶的的電腦裝置>),\n",
       " ('hypernym(rev)', <CwnSense[seantyh_test_000004](平板): 一種具有平面螢幕且易攜帶的的電腦裝置>),\n",
       " ('hypernym(rev)', <CwnSense[seantyh_test_000006](平板): 一種具有平面螢幕且易攜帶的的電腦裝置>),\n",
       " ('has_facet',\n",
       "  <CwnSense[06613601](電腦): 一種資料處理裝置，能自動接受並儲存、處理輸入的資料，然後經由一組預先存放在機器內的指令逐步引導下產生輸出結果。>),\n",
       " ('is_synset', <CwnSense[syn_004128](----): >),\n",
       " ('hypernym', <CwnSense[06582901](工具): 工作時必須使用的具有特定功能的器具。>),\n",
       " ('has_facet(rev)',\n",
       "  <CwnSense[06613601](電腦): 一種資料處理裝置，能自動接受並儲存、處理輸入的資料，然後經由一組預先存放在機器內的指令逐步引導下產生輸出結果。>),\n",
       " ('hyponym(rev)', <CwnSense[06582901](工具): 工作時必須使用的具有特定功能的器具。>)]"
      ]
     },
     "execution_count": 23,
     "metadata": {},
     "output_type": "execute_result"
    }
   ],
   "source": [
    "senses_computer[0].relations"
   ]
  },
  {
   "cell_type": "code",
   "execution_count": 24,
   "metadata": {},
   "outputs": [
    {
     "data": {
      "text/plain": [
       "{'node_type': 'sense',\n",
       " 'pos': 'Na',\n",
       " 'examples': '',\n",
       " 'domain': '',\n",
       " 'annot': {},\n",
       " 'def': '一種資料處理裝置，能自動接受並儲存、處理輸入的資料，然後經由一組預先存放在機器內的指令逐步引導下產生輸出結果。'}"
      ]
     },
     "execution_count": 24,
     "metadata": {},
     "output_type": "execute_result"
    }
   ],
   "source": [
    "senses[0].data()"
   ]
  },
  {
   "cell_type": "code",
   "execution_count": 25,
   "metadata": {},
   "outputs": [],
   "source": [
    "senses[0].examples = [\"大家學著使用<電腦>來處理資料。\"]"
   ]
  },
  {
   "cell_type": "code",
   "execution_count": 26,
   "metadata": {},
   "outputs": [
    {
     "data": {
      "text/plain": [
       "{'node_type': 'sense',\n",
       " 'pos': 'Na',\n",
       " 'examples': ['大家學著使用<電腦>來處理資料。'],\n",
       " 'domain': '',\n",
       " 'annot': {},\n",
       " 'def': '一種資料處理裝置，能自動接受並儲存、處理輸入的資料，然後經由一組預先存放在機器內的指令逐步引導下產生輸出結果。'}"
      ]
     },
     "execution_count": 26,
     "metadata": {},
     "output_type": "execute_result"
    }
   ],
   "source": [
    "senses[0].data()"
   ]
  },
  {
   "cell_type": "code",
   "execution_count": 27,
   "metadata": {},
   "outputs": [],
   "source": [
    "annot.set_sense(senses[0])"
   ]
  },
  {
   "cell_type": "code",
   "execution_count": 28,
   "metadata": {},
   "outputs": [],
   "source": [
    "annot.save()"
   ]
  },
  {
   "cell_type": "markdown",
   "metadata": {},
   "source": [
    "## Load last session"
   ]
  },
  {
   "cell_type": "code",
   "execution_count": 29,
   "metadata": {},
   "outputs": [
    {
     "name": "stdout",
     "output_type": "stream",
     "text": [
      "loading saved session from  annot/cwn_annot_seantyh_test.json\n",
      "<CwnSense[06613601](電腦): 一種資料處理裝置，能自動接受並儲存、處理輸入的資料，然後經由一組預先存放在機器內的指令逐步引導下產生輸出結果。>\n",
      "['大家學著使用<電腦>來處理資料。']\n",
      "[('hyponym', <CwnSense[seantyh_test_000002](平板): 一種具有平面螢幕且易攜帶的的電腦裝置>), ('hyponym', <CwnSense[seantyh_test_000004](平板): 一種具有平面螢幕且易攜帶的的電腦裝置>), ('hyponym', <CwnSense[seantyh_test_000006](平板): 一種具有平面螢幕且易攜帶的的電腦裝置>), ('hypernym(rev)', <CwnSense[seantyh_test_000002](平板): 一種具有平面螢幕且易攜帶的的電腦裝置>), ('hypernym(rev)', <CwnSense[seantyh_test_000004](平板): 一種具有平面螢幕且易攜帶的的電腦裝置>), ('hypernym(rev)', <CwnSense[seantyh_test_000006](平板): 一種具有平面螢幕且易攜帶的的電腦裝置>), ('has_facet', <CwnSense[06613601](電腦): 一種資料處理裝置，能自動接受並儲存、處理輸入的資料，然後經由一組預先存放在機器內的指令逐步引導下產生輸出結果。>), ('is_synset', <CwnSense[syn_004128](----): >), ('hypernym', <CwnSense[06582901](工具): 工作時必須使用的具有特定功能的器具。>), ('has_facet(rev)', <CwnSense[06613601](電腦): 一種資料處理裝置，能自動接受並儲存、處理輸入的資料，然後經由一組預先存放在機器內的指令逐步引導下產生輸出結果。>), ('hyponym(rev)', <CwnSense[06582901](工具): 工作時必須使用的具有特定功能的器具。>)]\n"
     ]
    }
   ],
   "source": [
    "annot2 = CwnAnnotator(cwn, \"seantyh_test\")\n",
    "computer0 = annot2.find_lemmas(\"電腦\")[0]\n",
    "senses_computer = computer0.senses\n",
    "print(senses_computer[0])\n",
    "print(senses_computer[0].examples)\n",
    "print(senses_computer[0].relations)"
   ]
  },
  {
   "cell_type": "code",
   "execution_count": null,
   "metadata": {},
   "outputs": [],
   "source": []
  }
 ],
 "metadata": {
  "kernelspec": {
   "display_name": "Python 3",
   "language": "python",
   "name": "python3"
  },
  "language_info": {
   "codemirror_mode": {
    "name": "ipython",
    "version": 3
   },
   "file_extension": ".py",
   "mimetype": "text/x-python",
   "name": "python",
   "nbconvert_exporter": "python",
   "pygments_lexer": "ipython3",
   "version": "3.7.1"
  }
 },
 "nbformat": 4,
 "nbformat_minor": 2
}
